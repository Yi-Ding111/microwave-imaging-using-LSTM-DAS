{
 "cells": [
  {
   "cell_type": "code",
   "execution_count": 2,
   "metadata": {},
   "outputs": [],
   "source": [
    "import numpy as np\n",
    "import skrf as rf\n",
    "import matplotlib.pyplot as plt\n",
    "import pandas as pd\n",
    "from pylab import *\n",
    "from ast import literal_eval\n",
    "\n",
    "from tensorflow.python.keras.saving.save import load_model\n",
    "\n",
    "\n",
    "import antenna_boundary_position as po\n",
    "import signal_process as sp\n",
    "import data_prepare as dp\n",
    "import learning_model as lm"
   ]
  },
  {
   "cell_type": "code",
   "execution_count": 3,
   "metadata": {},
   "outputs": [],
   "source": [
    "pos_file='./20200309-AS-CNC-Boundary-Movement/LogPeriodic/AntennaPositions.csv'"
   ]
  },
  {
   "cell_type": "code",
   "execution_count": 4,
   "metadata": {},
   "outputs": [
    {
     "data": {
      "text/plain": [
       "\"\\n#prepare dataset as input for LSTM\\n#signal_col=dp.signal_col_lstm() #the first column of df, reflection signal sequences\\n#reflection_col=dp.reflection_time_column_lstm() # the second column of df, reflection time from antenna position to boundary\\nsignal_ret=dp.signal_col_lstm_16()\\nreflection_ret=dp.reflection_col_lstm_16()\\n\\nfor index in range(16):\\n    signal_col=signal_ret[index] #the first column of df, reflection signal sequences\\n\\n    #do normalization for each reflection list\\n    #the second column of df, reflection time from antenna position to boundary\\n    reflection_col=dp.normalization(reflection_ret[index])  \\n\\n    df_learning={'signal_timesteps':signal_col,'reflection_value':reflection_col}\\n    df_learning_file=pd.DataFrame(df_learning)\\n\""
      ]
     },
     "execution_count": 4,
     "metadata": {},
     "output_type": "execute_result"
    }
   ],
   "source": [
    "'''\n",
    "#prepare dataset as input for LSTM\n",
    "#signal_col=dp.signal_col_lstm() #the first column of df, reflection signal sequences\n",
    "#reflection_col=dp.reflection_time_column_lstm() # the second column of df, reflection time from antenna position to boundary\n",
    "signal_ret=dp.signal_col_lstm_16()\n",
    "reflection_ret=dp.reflection_col_lstm_16()\n",
    "\n",
    "for index in range(16):\n",
    "    signal_col=signal_ret[index] #the first column of df, reflection signal sequences\n",
    "\n",
    "    #do normalization for each reflection list\n",
    "    #the second column of df, reflection time from antenna position to boundary\n",
    "    reflection_col=dp.normalization(reflection_ret[index])  \n",
    "\n",
    "    df_learning={'signal_timesteps':signal_col,'reflection_value':reflection_col}\n",
    "    df_learning_file=pd.DataFrame(df_learning)\n",
    "'''"
   ]
  },
  {
   "cell_type": "code",
   "execution_count": 5,
   "metadata": {},
   "outputs": [],
   "source": [
    "dataset_name=['data_for_lm_S11.csv','data_for_lm_S22.csv','data_for_lm_S33.csv','data_for_lm_S44.csv','data_for_lm_S55.csv',\n",
    "              'data_for_lm_S66.csv','data_for_lm_S77.csv','data_for_lm_S88.csv','data_for_lm_S99.csv','data_for_lm_S1010.csv',\n",
    "              'data_for_lm_S1111.csv','data_for_lm_S1212.csv','data_for_lm_S1313.csv','data_for_lm_S1414.csv','data_for_lm_S1515.csv','data_for_lm_S1616.csv']"
   ]
  },
  {
   "cell_type": "code",
   "execution_count": 6,
   "metadata": {},
   "outputs": [],
   "source": [
    "#lstm trained model\n",
    "model_name=['lstm_disS11.h5','lstm_disS22.h5','lstm_disS33.h5','lstm_disS44.h5','lstm_disS55.h5',\n",
    "            'lstm_disS66.h5','lstm_disS77.h5','lstm_disS88.h5','lstm_disS99.h5','lstm_disS1010.h5',\n",
    "            'lstm_disS1111.h5','lstm_disS1212.h5','lstm_disS1313.h5','lstm_disS1414.h5','lstm_disS1515.h5','lstm_disS1616.h5']"
   ]
  },
  {
   "cell_type": "code",
   "execution_count": 7,
   "metadata": {},
   "outputs": [],
   "source": [
    "#test file path\n",
    "test_file_name=['./20200309-AS-CNC-Boundary-Movement/LogPeriodic/Container1/Data/IF10k-CNC-Exp0000.s16p',\n",
    "                './20200309-AS-CNC-Boundary-Movement/LogPeriodic/Container1/Data/IF10k-CNC-Exp0030.s16p',\n",
    "                './20200309-AS-CNC-Boundary-Movement/LogPeriodic/Container1/Data/IF10k-CNC-Exp0155.s16p',\n",
    "                './20200309-AS-CNC-Boundary-Movement/LogPeriodic/Container1/Data/IF10k-CNC-Exp0237.s16p',\n",
    "                './20200309-AS-CNC-Boundary-Movement/LogPeriodic/Container1/Data/IF10k-CNC-Exp0200.s16p']"
   ]
  },
  {
   "cell_type": "code",
   "execution_count": 10,
   "metadata": {},
   "outputs": [
    {
     "name": "stdout",
     "output_type": "stream",
     "text": [
      "prediction distances: [18.993137, 19.391928, 19.389462, 19.706362, 18.811892, 18.146627, 17.518675, 18.19286, 18.557354, 15.135794, 12.858959, 11.991917, 13.277435, 14.622543, 15.286851, 16.935022]\n"
     ]
    }
   ],
   "source": [
    "#predict the distance for 16\n",
    "prediction_list=dp.test_output(test_file_name[2],model_name)\n",
    "print(\"prediction distances:\",prediction_list)"
   ]
  },
  {
   "cell_type": "code",
   "execution_count": 11,
   "metadata": {},
   "outputs": [
    {
     "name": "stdout",
     "output_type": "stream",
     "text": [
      "[(0, 96.0068626403809), (30.1240767974988, 86.4602666924498), (53.3343948671284, 62.6860065521223), (66.2403255097417, 31.9474084479672), (71.1881084442139, 0), (67.7042569085390, -32.4856342167802), (54.7426476673966, -63.9175368211274), (30.6419882815877, -87.5417156879381), (0, -96.4426460266113), (-31.9624217169943, -90.2989077105128), (-58.2502937995004, -66.9850062299027), (-73.4863037170652, -34.5947586775377), (-76.7225646972656, 0), (-71.0145487132032, 33.6944091543625), (-56.4226747610249, 65.3867362561707), (-31.1852838600996, 88.6761691142193)]\n"
     ]
    }
   ],
   "source": [
    "#converting to coordinate\n",
    "coor_prediction_list=po.reflection_to_bound_point(pos_file,prediction_list)\n",
    "print(coor_prediction_list)\n"
   ]
  },
  {
   "cell_type": "code",
   "execution_count": 12,
   "metadata": {},
   "outputs": [
    {
     "name": "stdout",
     "output_type": "stream",
     "text": [
      "the transformation points:                     0                  1\n",
      "0                   0   96.0068626403809\n",
      "1    30.1240767974988   86.4602666924498\n",
      "2    53.3343948671284   62.6860065521223\n",
      "3    66.2403255097417   31.9474084479672\n",
      "4    71.1881084442139                  0\n",
      "5    67.7042569085390  -32.4856342167802\n",
      "6    54.7426476673966  -63.9175368211274\n",
      "7    30.6419882815877  -87.5417156879381\n",
      "8                   0  -96.4426460266113\n",
      "9   -31.9624217169943  -90.2989077105128\n",
      "10  -58.2502937995004  -66.9850062299027\n",
      "11  -73.4863037170652  -34.5947586775377\n",
      "12  -76.7225646972656                  0\n",
      "13  -71.0145487132032   33.6944091543625\n",
      "14  -56.4226747610249   65.3867362561707\n",
      "15  -31.1852838600996   88.6761691142193\n"
     ]
    }
   ],
   "source": [
    "#plot the prediction coordinates\n",
    "position=po.antenna_pos(pos_file)\n",
    "prediction_df=pd.DataFrame(coor_prediction_list)\n",
    "print('the transformation points:',prediction_df)"
   ]
  },
  {
   "cell_type": "code",
   "execution_count": 13,
   "metadata": {},
   "outputs": [],
   "source": [
    "#the ground truth of boundary\n",
    "bound_file='./20200309-AS-CNC-Boundary-Movement/LogPeriodic/Container1/GroundTruth/Exp0155.csv'\n",
    "position2=po.boundary_pos(bound_file)"
   ]
  },
  {
   "cell_type": "code",
   "execution_count": 14,
   "metadata": {},
   "outputs": [],
   "source": [
    "closet_coordinate=pd.DataFrame(po.bound_ante_point(pos_file,bound_file))\n",
    "#print(po.bound_ante_point(pos_file,bound_file))"
   ]
  },
  {
   "cell_type": "code",
   "execution_count": 15,
   "metadata": {},
   "outputs": [
    {
     "data": {
      "image/png": "[encoded data removed]",
      "text/plain": [
       "<Figure size 432x288 with 1 Axes>"
      ]
     },
     "metadata": {
      "needs_background": "light"
     },
     "output_type": "display_data"
    }
   ],
   "source": [
    "#plot\n",
    "plt.scatter(position['x'],position['y'])\n",
    "plt.scatter(position2['x'],position2['y'],s=4.)\n",
    "plt.scatter(closet_coordinate[0],closet_coordinate[1],s=4.)\n",
    "plt.scatter(prediction_df[0],prediction_df[1],s=8.)\n",
    "plt.show()"
   ]
  },
  {
   "cell_type": "code",
   "execution_count": 16,
   "metadata": {},
   "outputs": [
    {
     "data": {
      "image/png": "[encoded data removed]",
      "text/plain": [
       "<Figure size 432x288 with 1 Axes>"
      ]
     },
     "metadata": {
      "needs_background": "light"
     },
     "output_type": "display_data"
    }
   ],
   "source": [
    "# the points array for bezier curve recunstruct\n",
    "coor_prediction_list.append(po.reflection_to_bound_point(pos_file,prediction_list)[0])\n",
    "#coor_prediction_array=np.array(coor_prediction_list)\n",
    "#print(coor_prediction_array)\n",
    "plt.scatter(position['x'],position['y'])\n",
    "plt.scatter(position2['x'],position2['y'],s=4.)\n",
    "plt.scatter(closet_coordinate[0],closet_coordinate[1],s=4.)\n",
    "plt.scatter(prediction_df[0],prediction_df[1],s=4.)\n",
    "po.curve_draw(coor_prediction_list)\n",
    "plt.show()"
   ]
  },
  {
   "cell_type": "code",
   "execution_count": 16,
   "metadata": {},
   "outputs": [
    {
     "data": {
      "text/plain": [
       "\"\\nsingle_rmse=[]\\nfor i in range(len(snp_file_paths)):\\n    ntwk=rf.Network(snp_file_paths[i])\\n    closet_coordinate=po.bound_ante_point(pos_file,gt_file_paths[i])\\n    prediction_dis=dp.test_output(snp_file_paths[i],model_name)\\n    coor_prediction=po.reflection_to_bound_point(pos_file,prediction_dis)\\n    accuracy=po.rmse(closet_coordinate,coor_prediction)\\n    single_rmse.append(accuracy)\\n\\nprint('the RMSE of boundary reconstruction is:', np.sum(single_rmse)/(i+1))\\n\""
      ]
     },
     "execution_count": 16,
     "metadata": {},
     "output_type": "execute_result"
    }
   ],
   "source": [
    "#rmse\n",
    "\n",
    "#all file path\n",
    "snp_file_paths=dp.file_path_integration()[0]\n",
    "gt_file_paths=dp.file_path_integration()[1]\n",
    "'''\n",
    "single_rmse=[]\n",
    "for i in range(len(snp_file_paths)):\n",
    "    ntwk=rf.Network(snp_file_paths[i])\n",
    "    closet_coordinate=po.bound_ante_point(pos_file,gt_file_paths[i])\n",
    "    prediction_dis=dp.test_output(snp_file_paths[i],model_name)\n",
    "    coor_prediction=po.reflection_to_bound_point(pos_file,prediction_dis)\n",
    "    accuracy=po.rmse(closet_coordinate,coor_prediction)\n",
    "    single_rmse.append(accuracy)\n",
    "\n",
    "print('the RMSE of boundary reconstruction is:', np.sum(single_rmse)/(i+1))\n",
    "'''"
   ]
  },
  {
   "cell_type": "code",
   "execution_count": null,
   "metadata": {},
   "outputs": [],
   "source": []
  }
 ],
 "metadata": {
  "kernelspec": {
   "display_name": "Python 3",
   "language": "python",
   "name": "python3"
  },
  "language_info": {
   "codemirror_mode": {
    "name": "ipython",
    "version": 3
   },
   "file_extension": ".py",
   "mimetype": "text/x-python",
   "name": "python",
   "nbconvert_exporter": "python",
   "pygments_lexer": "ipython3",
   "version": "3.8.3"
  }
 },
 "nbformat": 4,
 "nbformat_minor": 4
}
